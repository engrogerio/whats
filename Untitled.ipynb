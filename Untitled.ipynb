{
 "cells": [
  {
   "cell_type": "code",
   "execution_count": 9,
   "metadata": {},
   "outputs": [
    {
     "name": "stdout",
     "output_type": "stream",
     "text": [
      "{'Employee': {'Nome': 'Rogério', 'Sobrenome': 'Silva', 'Treinamentos': ['NVS123', 'ISO9000', {'ANSI2324': 'test'}]}}\n"
     ]
    },
    {
     "name": "stderr",
     "output_type": "stream",
     "text": [
      "c:\\Users\\rsilva\\source\\aws_scripts\\.env\\lib\\site-packages\\ipykernel_launcher.py:16: YAMLLoadWarning: calling yaml.load() without Loader=... is deprecated, as the default Loader is unsafe. Please read https://msg.pyyaml.org/load for full details.\n",
      "  app.launch_new_instance()\n"
     ]
    }
   ],
   "source": [
    "import yaml\n",
    "\n",
    "yml = \"\"\"\n",
    "\n",
    "Employee:\n",
    "    Nome: Rogério\n",
    "    Sobrenome: Silva\n",
    "    Treinamentos:\n",
    "        - NVS123\n",
    "        - ISO9000\n",
    "        - ANSI2324:\n",
    "            test\n",
    "\n",
    "\"\"\"\n",
    "\n",
    "d = yaml.load(yml)\n",
    "\n",
    "print(d)"
   ]
  },
  {
   "cell_type": "code",
   "execution_count": 58,
   "metadata": {},
   "outputs": [],
   "source": [
    "\n",
    "menu = {'MENU': {'pratos': {1: 'Carne Assada = R$29.00', 2: 'Cação Ensopado = R$29.00', 3: 'Talharim com Almôndegas = R$29.00', 4: 'Rondelli 4 queijos(Vegetariano) = R$29.00'}, 'bebidas': {5: 'Suco de laranja = R$8.00', 6: 'Coca lata = R$4.00', 7: 'Coca lata diet = R$8.00'}, 'sobremesas': {8: 'Gelatina', 9: 'Paçoca', 10: 'Maçã'}}}"
   ]
  },
  {
   "cell_type": "code",
   "execution_count": 64,
   "metadata": {},
   "outputs": [
    {
     "name": "stdout",
     "output_type": "stream",
     "text": [
      "[{1: {'name': 'Carne Assada', 'price': '29.00'}}, {2: {'name': 'Cação Ensopado', 'price': '29.00'}}, {3: {'name': 'Talharim com Almôndegas', 'price': '29.00'}}, {4: {'name': 'Rondelli 4 queijos(Vegetariano)', 'price': '29.00'}}, {5: {'name': 'Suco de laranja', 'price': '8.00'}}, {6: {'name': 'Coca lata', 'price': '4.00'}}, {7: {'name': 'Coca lata diet', 'price': '8.00'}}, {8: {'name': 'Gelatina', 'price': 0.0}}, {9: {'name': 'Paçoca', 'price': 0.0}}, {10: {'name': 'Maçã', 'price': 0.0}}]\n"
     ]
    }
   ],
   "source": [
    "def get_menu_items(message, menu_items):\n",
    "    for id, item in message.items():\n",
    "        if str(id).isnumeric():\n",
    "            equal_position = len(item)+1 if item.find('=')==-1 else item.find('=')\n",
    "            item_name = item[:equal_position-1]\n",
    "            item_price = item[equal_position+4:] or 0.0\n",
    "            menu_items.append({id:{\"name\": item_name, \"price\": item_price}})\n",
    "        if type(item) is dict:\n",
    "            get_menu_items(item, menu_items)\n",
    "    \n",
    "    return menu_items\n",
    "\n",
    "print(get_menu_items(menu, []))"
   ]
  }
 ],
 "metadata": {
  "kernelspec": {
   "display_name": "Python 3.7.0 64-bit ('.env': virtualenv)",
   "language": "python",
   "name": "python37064bitenvvirtualenvbb3ee46b675245a780446fe671d99d74"
  },
  "language_info": {
   "codemirror_mode": {
    "name": "ipython",
    "version": 3
   },
   "file_extension": ".py",
   "mimetype": "text/x-python",
   "name": "python",
   "nbconvert_exporter": "python",
   "pygments_lexer": "ipython3",
   "version": "3.7.0"
  }
 },
 "nbformat": 4,
 "nbformat_minor": 4
}
